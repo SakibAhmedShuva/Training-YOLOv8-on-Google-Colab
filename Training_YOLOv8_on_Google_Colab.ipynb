{
  "cells": [
    {
      "cell_type": "code",
      "execution_count": null,
      "metadata": {
        "collapsed": true,
        "id": "ywLyo1pDBzet"
      },
      "outputs": [],
      "source": [
        "!pip install ultralytics\n",
        "!pip install roboflow\n",
        "!pip install -U ipywidgets"
      ]
    },
    {
      "cell_type": "code",
      "execution_count": null,
      "metadata": {
        "id": "45ExUCqGC10v"
      },
      "outputs": [],
      "source": [
        "import os\n",
        "import zipfile\n",
        "import ultralytics"
      ]
    },
    {
      "cell_type": "code",
      "execution_count": null,
      "metadata": {
        "collapsed": true,
        "id": "tchOIqe9DCfA"
      },
      "outputs": [],
      "source": [
        "#DL Annotations\n",
        "!gdown --id 34tyrhtjyghhhghgfhfdhdfhgdfgd\n",
        "\n",
        "#DL Yaml\n",
        "!gdown --id sdfsgrhtjyjh5yhtjykumjyhfgnh"
      ]
    },
    {
      "cell_type": "code",
      "execution_count": null,
      "metadata": {
        "id": "A2nM5Mr2I0jB"
      },
      "outputs": [],
      "source": [
        "def extract_all_zips(directory_to_search, directory_to_extract_to):\n",
        "    # Search for all zip files in the specified directory\n",
        "    for root, dirs, files in os.walk(directory_to_search):\n",
        "        for file in files:\n",
        "            if file.endswith('.zip'):\n",
        "                zip_path = os.path.join(root, file)\n",
        "                print(f\"Extracting {zip_path}...\")\n",
        "\n",
        "                # Extract each zip file\n",
        "                with zipfile.ZipFile(zip_path, 'r') as zip_ref:\n",
        "                    zip_ref.extractall(directory_to_extract_to)\n",
        "                print(f\"Extracted {zip_path} to {directory_to_extract_to}\")\n",
        "\n",
        "# Define the directories\n",
        "directory_to_search = \"/content/\"\n",
        "directory_to_extract_to = \"/content/\"\n",
        "\n",
        "# Call the function to extract all zip files\n",
        "extract_all_zips(directory_to_search, directory_to_extract_to)"
      ]
    },
    {
      "cell_type": "code",
      "execution_count": null,
      "metadata": {
        "id": "3IWiWKhTCbRo"
      },
      "outputs": [],
      "source": [
        "# Mount Google Drive\n",
        "from google.colab import drive\n",
        "drive.mount('/content/gdrive')"
      ]
    },
    {
      "cell_type": "code",
      "execution_count": null,
      "metadata": {
        "id": "mlZx43UzBzex"
      },
      "outputs": [],
      "source": [
        "# Go to YOLOv8 root folder\n",
        "%cd /content/gdrive/MyDrive/"
      ]
    },
    {
      "cell_type": "code",
      "execution_count": null,
      "metadata": {
        "id": "dPEljYeACxSP"
      },
      "outputs": [],
      "source": [
        "# Create folder\n",
        "!mkdir training"
      ]
    },
    {
      "cell_type": "code",
      "execution_count": null,
      "metadata": {
        "id": "5J-IVT4HC0WW"
      },
      "outputs": [],
      "source": [
        "# Go to YOLOv8 root folder\n",
        "%cd /content/gdrive/MyDrive/training"
      ]
    },
    {
      "cell_type": "code",
      "execution_count": null,
      "metadata": {
        "id": "9bXsRt3MGRPx"
      },
      "outputs": [],
      "source": [
        "!yolo segment train model=yolov8x-seg.pt data='/content/data_modified.yaml' workers=8 batch=8 epochs=600 seed=101 device=0 save_period=40 #patience=200 #name=yolov8_car_damage_296_Classes"
      ]
    },
    {
      "cell_type": "markdown",
      "metadata": {
        "id": "z9ot220lbNbX"
      },
      "source": [
        "# Continue Training"
      ]
    },
    {
      "cell_type": "code",
      "execution_count": null,
      "metadata": {
        "id": "Li3znaAFGRU7"
      },
      "outputs": [],
      "source": [
        "!yolo segment train model=weights/best.pt data='/data/data_modified.yaml' resume=True workers=8 batch=8 epochs=600 seed=101 device=0 save_period=40 #patience=600 #name=yolov8_car_damage_296_Classes"
      ]
    },
    {
      "cell_type": "code",
      "source": [],
      "metadata": {
        "id": "bhO3YCAszQ1m"
      },
      "execution_count": null,
      "outputs": []
    }
  ],
  "metadata": {
    "accelerator": "GPU",
    "colab": {
      "gpuType": "T4",
      "provenance": []
    },
    "kernelspec": {
      "display_name": "Python 3",
      "name": "python3"
    },
    "language_info": {
      "codemirror_mode": {
        "name": "ipython",
        "version": 3
      },
      "file_extension": ".py",
      "mimetype": "text/x-python",
      "name": "python",
      "nbconvert_exporter": "python",
      "pygments_lexer": "ipython3",
      "version": "3.12.6"
    }
  },
  "nbformat": 4,
  "nbformat_minor": 0
}